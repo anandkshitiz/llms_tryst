{
 "cells": [
  {
   "cell_type": "code",
   "execution_count": 9,
   "metadata": {},
   "outputs": [],
   "source": [
    "from langchain.document_loaders import PyPDFLoader\n",
    "from langchain.text_splitter import RecursiveCharacterTextSplitter\n",
    "from langchain.embeddings import HuggingFaceEmbeddings\n",
    "from langchain.vectorstores import FAISS\n",
    "from langchain.chains import RetrievalQA\n",
    "from langchain.llms import Ollama  # Use Ollama for local Llama model"
   ]
  },
  {
   "cell_type": "code",
   "execution_count": 10,
   "metadata": {},
   "outputs": [],
   "source": [
    "# Step 1: Load and Process the PDF\n",
    "loader = PyPDFLoader(\"data/KshitizAnandFY24.pdf\")  # Replace with your PDF file path\n",
    "documents = loader.load()\n",
    "\n",
    "# Split the text into chunks\n",
    "text_splitter = RecursiveCharacterTextSplitter(chunk_size=1000, chunk_overlap=200)\n",
    "texts = text_splitter.split_documents(documents)"
   ]
  },
  {
   "cell_type": "code",
   "execution_count": 11,
   "metadata": {},
   "outputs": [
    {
     "name": "stderr",
     "output_type": "stream",
     "text": [
      "/var/folders/77/vrhrhn0n6k5d5kvs8k4530dm0000gn/T/ipykernel_62441/1107482255.py:2: LangChainDeprecationWarning: Default values for HuggingFaceEmbeddings.model_name were deprecated in LangChain 0.2.16 and will be removed in 0.4.0. Explicitly pass a model_name to the HuggingFaceEmbeddings constructor instead.\n",
      "  embeddings = HuggingFaceEmbeddings()  # Use Hugging Face embeddings for vectorization\n"
     ]
    }
   ],
   "source": [
    "# Step 2: Create a Vector Store\n",
    "embeddings = HuggingFaceEmbeddings()  # Use Hugging Face embeddings for vectorization\n",
    "vector_store = FAISS.from_documents(texts, embeddings)"
   ]
  },
  {
   "cell_type": "code",
   "execution_count": 12,
   "metadata": {},
   "outputs": [],
   "source": [
    "# Step 3: Set Up Retrieval and Generation with Ollama\n",
    "# Initialize the Ollama LLM (Llama model running locally)\n",
    "llm = Ollama(model=\"llama3.2\")  # Replace \"llama2\" with the specific model name you're using\n",
    "\n",
    "# Create a Retrieval QA chain\n",
    "qa_chain = RetrievalQA.from_chain_type(\n",
    "    llm=llm,\n",
    "    chain_type=\"stuff\",\n",
    "    retriever=vector_store.as_retriever()\n",
    ")"
   ]
  },
  {
   "cell_type": "code",
   "execution_count": 16,
   "metadata": {},
   "outputs": [
    {
     "name": "stdout",
     "output_type": "stream",
     "text": [
      "Answer: I don't know the answer to that question. The provided context only mentions KshitizAnand-FY24 as the individual, but does not explicitly state the key outcomes of their FY24 performance.\n"
     ]
    }
   ],
   "source": [
    "# Step 4: Query the Chain\n",
    "question = \"Explain key outcomes of Kshitiz Anand's FY24 performance \"  # Replace with your question\n",
    "response = qa_chain.run(question)\n",
    "print(\"Answer:\", response)"
   ]
  }
 ],
 "metadata": {
  "kernelspec": {
   "display_name": ".venv",
   "language": "python",
   "name": "python3"
  },
  "language_info": {
   "codemirror_mode": {
    "name": "ipython",
    "version": 3
   },
   "file_extension": ".py",
   "mimetype": "text/x-python",
   "name": "python",
   "nbconvert_exporter": "python",
   "pygments_lexer": "ipython3",
   "version": "3.9.6"
  }
 },
 "nbformat": 4,
 "nbformat_minor": 2
}
